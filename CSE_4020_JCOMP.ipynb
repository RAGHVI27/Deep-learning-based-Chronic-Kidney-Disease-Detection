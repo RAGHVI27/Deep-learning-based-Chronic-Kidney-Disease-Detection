{
  "nbformat": 4,
  "nbformat_minor": 0,
  "metadata": {
    "colab": {
      "provenance": [],
      "authorship_tag": "ABX9TyPsf9zRx+nnN/4KlnA6iahm",
      "include_colab_link": true
    },
    "kernelspec": {
      "name": "python3",
      "display_name": "Python 3"
    },
    "language_info": {
      "name": "python"
    }
  },
  "cells": [
    {
      "cell_type": "markdown",
      "metadata": {
        "id": "view-in-github",
        "colab_type": "text"
      },
      "source": [
        "<a href=\"https://colab.research.google.com/github/RAGHVI27/Deep-learning-based-Chronic-Kidney-Disease-Detection/blob/main/CSE_4020_JCOMP.ipynb\" target=\"_parent\"><img src=\"https://colab.research.google.com/assets/colab-badge.svg\" alt=\"Open In Colab\"/></a>"
      ]
    },
    {
      "cell_type": "code",
      "execution_count": 37,
      "metadata": {
        "id": "4HS_GbT-x1B6"
      },
      "outputs": [],
      "source": [
        "\n",
        "import pandas as pd\n",
        "import numpy as np\n",
        "import matplotlib.pyplot as plt\n",
        "\n",
        "from sklearn.model_selection import train_test_split\n",
        "from sklearn.ensemble import RandomForestClassifier\n",
        "from sklearn.feature_selection import SelectFromModel\n",
        "from tensorflow.keras.models import Sequential\n",
        "from tensorflow.keras.layers import LSTM, Dense\n",
        "from sklearn.preprocessing import LabelEncoder\n",
        "from sklearn.preprocessing import StandardScaler\n",
        "from sklearn.metrics import classification_report\n",
        "from sklearn.impute import SimpleImputer\n",
        "\n",
        "\n",
        "df = pd.read_csv('kidney_disease_1.csv')\n",
        "#df = df.replace(r'^\\s*$', np.nan, regex=True)\n",
        "# Data cleaning and preprocessing\n",
        "numerical_columns = ['age', 'bp', 'sg', 'su', 'bgr', 'bu', 'sc', 'sod', 'pot', 'hemo', 'pcv', 'wc', 'rc']\n",
        "#df[numerical_columns] = df[numerical_columns].astype(float)\n",
        "#imputer = SimpleImputer(strategy='mean')\n",
        "#df[numerical_columns] = imputer.fit_transform(df[numerical_columns])\n",
        "# Imputing missing values in numerical columns with mode\n",
        "numerical_imputer = SimpleImputer(strategy='most_frequent')\n",
        "df[numerical_columns] = numerical_imputer.fit_transform(df[numerical_columns])\n",
        "\n",
        "#as done earlier we check and remove typos from the df\n",
        "df.replace('\\t?', np.nan, inplace=True)  # Replace '\\t?' with NaN\n",
        "\n",
        "for col in numerical_columns:\n",
        "    df[col] = pd.to_numeric(df[col], errors='coerce')\n",
        "\n",
        "\n",
        "\n",
        "\n",
        "\n"
      ]
    },
    {
      "cell_type": "code",
      "source": [
        "# Replacing missing values with the mode for categorical columns\n",
        "categorical_columns = ['rbc', 'pc', 'pcc', 'ba', 'htn', 'dm', 'cad', 'appet', 'pe', 'ane']\n",
        "for col in categorical_columns:\n",
        "    df[col].fillna(df[col].mode()[0], inplace=True)"
      ],
      "metadata": {
        "id": "ovsJN-atTdWU"
      },
      "execution_count": 2,
      "outputs": []
    },
    {
      "cell_type": "code",
      "source": [
        "# Encoding categorical features\n",
        "\n",
        "df.drop('id', axis=1, inplace=True)\n",
        "label_encoders = {}\n",
        "for col in categorical_columns:\n",
        "    le = LabelEncoder()\n",
        "    df[col] = le.fit_transform(df[col])\n",
        "    label_encoders[col] = le\n",
        "\n",
        "# Standardising numerical features\n",
        "scaler = StandardScaler()\n",
        "df[numerical_columns] = scaler.fit_transform(df[numerical_columns])\n",
        "\n",
        "X = df.drop('classification', axis=1)\n",
        "y = df['classification']\n",
        "\n",
        "X.fillna(X.mean(), inplace=True)\n",
        "\n",
        "y = pd.factorize(df['classification'])[0]\n",
        "X_train, X_test, y_train, y_test = train_test_split(X, y, test_size=0.2, random_state=42)\n",
        "\n",
        "\n",
        "\n",
        "# Feature selection using Random Forest\n",
        "rf = RandomForestClassifier(n_estimators=100, random_state=42)\n",
        "rf.fit(X_train, y_train)\n",
        "sfm = SelectFromModel(rf, threshold=0.1)\n",
        "sfm.fit(X_train, y_train)\n",
        "X_train = sfm.transform(X_train)\n",
        "X_test = sfm.transform(X_test)"
      ],
      "metadata": {
        "id": "8c3B77dEPE_s"
      },
      "execution_count": 22,
      "outputs": []
    },
    {
      "cell_type": "code",
      "source": [
        "import pandas as pd\n",
        "from sklearn.ensemble import RandomForestClassifier\n",
        "\n",
        "X = df.drop(['classification'], axis=1)\n",
        "\n",
        "X.fillna(X.mean(), inplace=True)\n",
        "\n",
        "y = pd.factorize(df['classification'])[0]\n",
        "\n",
        "clf = RandomForestClassifier()\n",
        "clf.fit(X, y)\n",
        "\n",
        "feature_importances = clf.feature_importances_\n",
        "#to print teh feature importances\n",
        "feature_importance_df = pd.DataFrame({'Feature': X.columns, 'Importance': feature_importances})\n",
        "feature_importance_df = feature_importance_df.sort_values(by='Importance', ascending=False)\n",
        "\n",
        "# Display the feature importance\n",
        "print(feature_importance_df)\n"
      ],
      "metadata": {
        "colab": {
          "base_uri": "https://localhost:8080/"
        },
        "id": "tz_aH_yAe7M4",
        "outputId": "042e9279-83e0-437f-9776-25f7bafa6735"
      },
      "execution_count": 23,
      "outputs": [
        {
          "output_type": "stream",
          "name": "stdout",
          "text": [
            "   Feature  Importance\n",
            "11      sc    0.162679\n",
            "3       al    0.134648\n",
            "2       sg    0.132747\n",
            "14    hemo    0.118914\n",
            "15     pcv    0.106590\n",
            "5      rbc    0.064574\n",
            "19      dm    0.042887\n",
            "18     htn    0.033089\n",
            "17      rc    0.032092\n",
            "16      wc    0.028201\n",
            "10      bu    0.027209\n",
            "12     sod    0.023762\n",
            "9      bgr    0.023152\n",
            "13     pot    0.012927\n",
            "6       pc    0.012567\n",
            "1       bp    0.012523\n",
            "0      age    0.009342\n",
            "22      pe    0.007322\n",
            "21   appet    0.006848\n",
            "4       su    0.004059\n",
            "20     cad    0.001492\n",
            "23     ane    0.001359\n",
            "7      pcc    0.000936\n",
            "8       ba    0.000080\n"
          ]
        }
      ]
    },
    {
      "cell_type": "code",
      "source": [
        "plt.figure(figsize=(10, 6))\n",
        "plt.barh(feature_importance_df['Feature'], feature_importance_df['Importance'], color='green', alpha=0.7)\n",
        "plt.xlabel('Importance')\n",
        "plt.title('Feature Importance (Random Forest)')\n",
        "plt.show()\n"
      ],
      "metadata": {
        "colab": {
          "base_uri": "https://localhost:8080/",
          "height": 564
        },
        "id": "dKm-lvYC_6In",
        "outputId": "1fa604eb-949b-4ce9-e21a-2536eac06e2e"
      },
      "execution_count": 24,
      "outputs": [
        {
          "output_type": "display_data",
          "data": {
            "text/plain": [
              "<Figure size 1000x600 with 1 Axes>"
            ],
            "image/png": "[encoded data removed]"
          },
          "metadata": {}
        }
      ]
    },
    {
      "cell_type": "code",
      "source": [
        "\n",
        "model = Sequential()\n",
        "model.add(LSTM(64, input_shape=(X_train.shape[1], 1)))\n",
        "model.add(Dense(1, activation='sigmoid'))\n",
        "\n",
        "model.compile(optimizer='adam', loss='binary_crossentropy', metrics=['accuracy'])\n",
        "\n",
        "# Reshape data for LSTM\n",
        "X_train = X_train.reshape(X_train.shape[0], X_train.shape[1], 1)\n",
        "X_test = X_test.reshape(X_test.shape[0], X_test.shape[1], 1)\n",
        "\n",
        "history = model.fit(X_train, y_train, epochs=10, batch_size=32, validation_data=(X_test, y_test))\n",
        "\n",
        "lstm_output = model.layers[0](X_train)\n",
        "\n",
        "y_pred = model.predict(X_test)\n",
        "y_pred = (y_pred > 0.5)\n",
        "\n",
        "from sklearn.metrics import precision_score, recall_score, f1_score, accuracy_score\n",
        "\n",
        "#accuracy = accuracy_score(y_test, y_pred, average='none', zero_division=1)\n",
        "precision = precision_score(y_test, y_pred, average='macro', zero_division=1)\n",
        "recall = recall_score(y_test, y_pred, average='macro', zero_division=1)\n",
        "\n",
        "# Print classification report\n",
        "print(classification_report(y_test, y_pred))"
      ],
      "metadata": {
        "colab": {
          "base_uri": "https://localhost:8080/"
        },
        "id": "D-ghNC7vJ2Nf",
        "outputId": "af6565aa-9866-4c14-c270-2402e7786fb7"
      },
      "execution_count": 30,
      "outputs": [
        {
          "output_type": "stream",
          "name": "stdout",
          "text": [
            "Epoch 1/10\n",
            "10/10 [==============================] - 4s 93ms/step - loss: 0.6402 - accuracy: 0.2000 - val_loss: 0.6153 - val_accuracy: 0.1250\n",
            "Epoch 2/10\n",
            "10/10 [==============================] - 0s 10ms/step - loss: 0.5682 - accuracy: 0.1219 - val_loss: 0.5574 - val_accuracy: 0.1250\n",
            "Epoch 3/10\n",
            "10/10 [==============================] - 0s 8ms/step - loss: 0.4769 - accuracy: 0.0938 - val_loss: 0.4965 - val_accuracy: 0.1125\n",
            "Epoch 4/10\n",
            "10/10 [==============================] - 0s 9ms/step - loss: 0.3770 - accuracy: 0.0781 - val_loss: 0.4405 - val_accuracy: 0.1000\n",
            "Epoch 5/10\n",
            "10/10 [==============================] - 0s 10ms/step - loss: 0.2568 - accuracy: 0.0812 - val_loss: 0.3947 - val_accuracy: 0.1125\n",
            "Epoch 6/10\n",
            "10/10 [==============================] - 0s 8ms/step - loss: 0.1402 - accuracy: 0.1000 - val_loss: 0.3626 - val_accuracy: 0.1250\n",
            "Epoch 7/10\n",
            "10/10 [==============================] - 0s 8ms/step - loss: -0.0167 - accuracy: 0.1219 - val_loss: 0.2646 - val_accuracy: 0.1500\n",
            "Epoch 8/10\n",
            "10/10 [==============================] - 0s 8ms/step - loss: -0.1992 - accuracy: 0.1719 - val_loss: 0.1305 - val_accuracy: 0.1750\n",
            "Epoch 9/10\n",
            "10/10 [==============================] - 0s 8ms/step - loss: -0.4359 - accuracy: 0.2219 - val_loss: -0.0438 - val_accuracy: 0.2750\n",
            "Epoch 10/10\n",
            "10/10 [==============================] - 0s 9ms/step - loss: -0.7350 - accuracy: 0.2750 - val_loss: -0.2789 - val_accuracy: 0.2875\n"
          ]
        },
        {
          "output_type": "stream",
          "name": "stderr",
          "text": [
            "WARNING:tensorflow:5 out of the last 20 calls to <function Model.make_predict_function.<locals>.predict_function at 0x790e71363b50> triggered tf.function retracing. Tracing is expensive and the excessive number of tracings could be due to (1) creating @tf.function repeatedly in a loop, (2) passing tensors with different shapes, (3) passing Python objects instead of tensors. For (1), please define your @tf.function outside of the loop. For (2), @tf.function has reduce_retracing=True option that can avoid unnecessary retracing. For (3), please refer to https://www.tensorflow.org/guide/function#controlling_retracing and https://www.tensorflow.org/api_docs/python/tf/function for  more details.\n"
          ]
        },
        {
          "output_type": "stream",
          "name": "stdout",
          "text": [
            "3/3 [==============================] - 0s 5ms/step\n",
            "              precision    recall  f1-score   support\n",
            "\n",
            "           0       1.00      0.44      0.61        52\n",
            "           1       0.00      0.00      0.00         0\n",
            "           2       0.00      0.00      0.00        28\n",
            "\n",
            "    accuracy                           0.29        80\n",
            "   macro avg       0.33      0.15      0.20        80\n",
            "weighted avg       0.65      0.29      0.40        80\n",
            "\n"
          ]
        },
        {
          "output_type": "stream",
          "name": "stderr",
          "text": [
            "/usr/local/lib/python3.10/dist-packages/sklearn/metrics/_classification.py:1344: UndefinedMetricWarning: Precision and F-score are ill-defined and being set to 0.0 in labels with no predicted samples. Use `zero_division` parameter to control this behavior.\n",
            "  _warn_prf(average, modifier, msg_start, len(result))\n",
            "/usr/local/lib/python3.10/dist-packages/sklearn/metrics/_classification.py:1344: UndefinedMetricWarning: Recall and F-score are ill-defined and being set to 0.0 in labels with no true samples. Use `zero_division` parameter to control this behavior.\n",
            "  _warn_prf(average, modifier, msg_start, len(result))\n",
            "/usr/local/lib/python3.10/dist-packages/sklearn/metrics/_classification.py:1344: UndefinedMetricWarning: Precision and F-score are ill-defined and being set to 0.0 in labels with no predicted samples. Use `zero_division` parameter to control this behavior.\n",
            "  _warn_prf(average, modifier, msg_start, len(result))\n",
            "/usr/local/lib/python3.10/dist-packages/sklearn/metrics/_classification.py:1344: UndefinedMetricWarning: Recall and F-score are ill-defined and being set to 0.0 in labels with no true samples. Use `zero_division` parameter to control this behavior.\n",
            "  _warn_prf(average, modifier, msg_start, len(result))\n",
            "/usr/local/lib/python3.10/dist-packages/sklearn/metrics/_classification.py:1344: UndefinedMetricWarning: Precision and F-score are ill-defined and being set to 0.0 in labels with no predicted samples. Use `zero_division` parameter to control this behavior.\n",
            "  _warn_prf(average, modifier, msg_start, len(result))\n",
            "/usr/local/lib/python3.10/dist-packages/sklearn/metrics/_classification.py:1344: UndefinedMetricWarning: Recall and F-score are ill-defined and being set to 0.0 in labels with no true samples. Use `zero_division` parameter to control this behavior.\n",
            "  _warn_prf(average, modifier, msg_start, len(result))\n"
          ]
        }
      ]
    },
    {
      "cell_type": "code",
      "source": [
        "print(\"NaN values in y_pred:\", np.isnan(y_pred).any())\n",
        "print(\"Inf values in y_pred:\", np.isinf(y_pred).any())\n"
      ],
      "metadata": {
        "colab": {
          "base_uri": "https://localhost:8080/"
        },
        "id": "SkkzOKlUtyQT",
        "outputId": "3cbb8300-52a7-4989-d2b1-d240a2675ff4"
      },
      "execution_count": 22,
      "outputs": [
        {
          "output_type": "stream",
          "name": "stdout",
          "text": [
            "NaN values in y_pred: False\n",
            "Inf values in y_pred: False\n"
          ]
        }
      ]
    },
    {
      "cell_type": "code",
      "source": [
        "\n",
        "plt.figure(figsize=(12, 6))\n",
        "plt.plot(history.history['accuracy'], label='Training Accuracy')\n",
        "plt.plot(history.history['val_accuracy'], label='Validation Accuracy')\n",
        "plt.xlabel('Epoch')\n",
        "plt.ylabel('Accuracy')\n",
        "plt.title('Training and Validation Accuracy Over Epochs')\n",
        "plt.legend()\n",
        "plt.show()"
      ],
      "metadata": {
        "colab": {
          "base_uri": "https://localhost:8080/",
          "height": 564
        },
        "id": "yg10ehakJnRo",
        "outputId": "2079bacf-242f-4cfa-b609-8a5506c41672"
      },
      "execution_count": 31,
      "outputs": [
        {
          "output_type": "display_data",
          "data": {
            "text/plain": [
              "<Figure size 1200x600 with 1 Axes>"
            ],
            "image/png": "[encoded data removed]"
          },
          "metadata": {}
        }
      ]
    },
    {
      "cell_type": "markdown",
      "source": [
        "# New section"
      ],
      "metadata": {
        "id": "Xc18T18xyL6H"
      }
    },
    {
      "cell_type": "code",
      "source": [
        "from keras.models import Sequential\n",
        "from keras.layers import GRU, Dense\n",
        "import tensorflow as tf\n",
        "tf.experimental.numpy.experimental_enable_numpy_behavior()\n",
        "# GRU Model\n",
        "gru_model = Sequential()\n",
        "gru_model.add(GRU(64, input_shape=(lstm_output.shape[1], 1)))\n",
        "gru_model.add(Dense(1, activation='sigmoid'))\n",
        "\n",
        "gru_model.compile(optimizer='adam', loss='binary_crossentropy', metrics=['accuracy'])\n",
        "\n",
        "# Reshape data for GRU\n",
        "lstm_output_reshaped = lstm_output.reshape(lstm_output.shape[0], lstm_output.shape[1], 1)\n",
        "\n",
        "history1=gru_model.fit(lstm_output_reshaped, y_train, epochs=10, batch_size=32)\n",
        "gru_output = gru_model.layers[0](lstm_output_reshaped)\n",
        "\n",
        "gru_predictions = gru_model.predict(lstm_output_reshaped)\n",
        "gru_predictions = (gru_predictions > 0.5)\n",
        "\n",
        "print(classification_report(y_train, gru_predictions))\n"
      ],
      "metadata": {
        "colab": {
          "base_uri": "https://localhost:8080/"
        },
        "id": "SViZ23tqvZh1",
        "outputId": "fa6a53d2-c2b9-4baf-eb89-b961e8849eb0"
      },
      "execution_count": 33,
      "outputs": [
        {
          "output_type": "stream",
          "name": "stdout",
          "text": [
            "Epoch 1/10\n",
            "10/10 [==============================] - 2s 20ms/step - loss: 0.6767 - accuracy: 0.3406\n",
            "Epoch 2/10\n",
            "10/10 [==============================] - 0s 19ms/step - loss: 0.6049 - accuracy: 0.0063\n",
            "Epoch 3/10\n",
            "10/10 [==============================] - 0s 19ms/step - loss: 0.4990 - accuracy: 0.0063\n",
            "Epoch 4/10\n",
            "10/10 [==============================] - 0s 20ms/step - loss: 0.3620 - accuracy: 0.0063\n",
            "Epoch 5/10\n",
            "10/10 [==============================] - 0s 21ms/step - loss: 0.3181 - accuracy: 0.0063\n",
            "Epoch 6/10\n",
            "10/10 [==============================] - 0s 21ms/step - loss: 0.2725 - accuracy: 0.0063\n",
            "Epoch 7/10\n",
            "10/10 [==============================] - 0s 21ms/step - loss: 0.1528 - accuracy: 0.0063\n",
            "Epoch 8/10\n",
            "10/10 [==============================] - 0s 19ms/step - loss: -0.1007 - accuracy: 0.0063\n",
            "Epoch 9/10\n",
            "10/10 [==============================] - 0s 20ms/step - loss: -0.4836 - accuracy: 0.0688\n",
            "Epoch 10/10\n",
            "10/10 [==============================] - 0s 20ms/step - loss: -1.1532 - accuracy: 0.3063\n",
            "10/10 [==============================] - 0s 8ms/step\n",
            "              precision    recall  f1-score   support\n",
            "\n",
            "           0       0.99      0.51      0.67       196\n",
            "           1       0.00      0.50      0.01         2\n",
            "           2       0.00      0.00      0.00       122\n",
            "\n",
            "    accuracy                           0.32       320\n",
            "   macro avg       0.33      0.34      0.23       320\n",
            "weighted avg       0.61      0.32      0.41       320\n",
            "\n"
          ]
        },
        {
          "output_type": "stream",
          "name": "stderr",
          "text": [
            "/usr/local/lib/python3.10/dist-packages/sklearn/metrics/_classification.py:1344: UndefinedMetricWarning: Precision and F-score are ill-defined and being set to 0.0 in labels with no predicted samples. Use `zero_division` parameter to control this behavior.\n",
            "  _warn_prf(average, modifier, msg_start, len(result))\n",
            "/usr/local/lib/python3.10/dist-packages/sklearn/metrics/_classification.py:1344: UndefinedMetricWarning: Precision and F-score are ill-defined and being set to 0.0 in labels with no predicted samples. Use `zero_division` parameter to control this behavior.\n",
            "  _warn_prf(average, modifier, msg_start, len(result))\n",
            "/usr/local/lib/python3.10/dist-packages/sklearn/metrics/_classification.py:1344: UndefinedMetricWarning: Precision and F-score are ill-defined and being set to 0.0 in labels with no predicted samples. Use `zero_division` parameter to control this behavior.\n",
            "  _warn_prf(average, modifier, msg_start, len(result))\n"
          ]
        }
      ]
    },
    {
      "cell_type": "code",
      "source": [
        "from keras.layers import SimpleRNN\n",
        "\n",
        "#rnn model\n",
        "rnn_model = Sequential()\n",
        "rnn_model.add(SimpleRNN(32, input_shape=(gru_output.shape[1], 1)))\n",
        "rnn_model.add(Dense(1, activation='sigmoid'))\n",
        "\n",
        "rnn_model.compile(optimizer='adam', loss='binary_crossentropy', metrics=['accuracy'])\n",
        "\n",
        "gru_output_reshaped = gru_output.reshape(gru_output.shape[0], gru_output.shape[1], 1)\n",
        "\n",
        "rnn_model.fit(gru_output_reshaped, y_train, epochs=10, batch_size=32)\n",
        "\n",
        "rnn_predictions = rnn_model.layers[0](gru_output_reshaped)\n",
        "\n",
        "rnn_predictions = rnn_model.predict(gru_output_reshaped)\n",
        "rnn_predictions = (rnn_predictions > 0.5)\n",
        "\n",
        "print(classification_report(y_train, rnn_predictions))\n"
      ],
      "metadata": {
        "colab": {
          "base_uri": "https://localhost:8080/"
        },
        "id": "2xPJLjFMwedu",
        "outputId": "2bf25c31-34f6-429a-a41b-8a585392a067"
      },
      "execution_count": 17,
      "outputs": [
        {
          "output_type": "stream",
          "name": "stdout",
          "text": [
            "Epoch 1/10\n",
            "10/10 [==============================] - 1s 10ms/step - loss: 0.0504 - accuracy: 0.5469\n",
            "Epoch 2/10\n",
            "10/10 [==============================] - 0s 9ms/step - loss: -0.7887 - accuracy: 0.6000\n",
            "Epoch 3/10\n",
            "10/10 [==============================] - 0s 9ms/step - loss: -1.2937 - accuracy: 0.6000\n",
            "Epoch 4/10\n",
            "10/10 [==============================] - 0s 10ms/step - loss: -1.6280 - accuracy: 0.6031\n",
            "Epoch 5/10\n",
            "10/10 [==============================] - 0s 9ms/step - loss: -1.9206 - accuracy: 0.6031\n",
            "Epoch 6/10\n",
            "10/10 [==============================] - 0s 10ms/step - loss: -2.1493 - accuracy: 0.6031\n",
            "Epoch 7/10\n",
            "10/10 [==============================] - 0s 9ms/step - loss: -2.3661 - accuracy: 0.6031\n",
            "Epoch 8/10\n",
            "10/10 [==============================] - 0s 9ms/step - loss: -2.5586 - accuracy: 0.6031\n",
            "Epoch 9/10\n",
            "10/10 [==============================] - 0s 10ms/step - loss: -2.7484 - accuracy: 0.6062\n",
            "Epoch 10/10\n",
            "10/10 [==============================] - 0s 9ms/step - loss: -2.9060 - accuracy: 0.6031\n",
            "10/10 [==============================] - 0s 4ms/step\n",
            "              precision    recall  f1-score   support\n",
            "\n",
            "           0       0.99      0.98      0.98       196\n",
            "           1       0.00      0.00      0.00         2\n",
            "           2       0.00      0.00      0.00       122\n",
            "\n",
            "    accuracy                           0.60       320\n",
            "   macro avg       0.33      0.33      0.33       320\n",
            "weighted avg       0.61      0.60      0.60       320\n",
            "\n"
          ]
        },
        {
          "output_type": "stream",
          "name": "stderr",
          "text": [
            "/usr/local/lib/python3.10/dist-packages/sklearn/metrics/_classification.py:1344: UndefinedMetricWarning: Precision and F-score are ill-defined and being set to 0.0 in labels with no predicted samples. Use `zero_division` parameter to control this behavior.\n",
            "  _warn_prf(average, modifier, msg_start, len(result))\n",
            "/usr/local/lib/python3.10/dist-packages/sklearn/metrics/_classification.py:1344: UndefinedMetricWarning: Precision and F-score are ill-defined and being set to 0.0 in labels with no predicted samples. Use `zero_division` parameter to control this behavior.\n",
            "  _warn_prf(average, modifier, msg_start, len(result))\n",
            "/usr/local/lib/python3.10/dist-packages/sklearn/metrics/_classification.py:1344: UndefinedMetricWarning: Precision and F-score are ill-defined and being set to 0.0 in labels with no predicted samples. Use `zero_division` parameter to control this behavior.\n",
            "  _warn_prf(average, modifier, msg_start, len(result))\n"
          ]
        }
      ]
    },
    {
      "cell_type": "code",
      "source": [
        "from sklearn.svm import SVC\n",
        "from sklearn.model_selection import GridSearchCV\n",
        "from sklearn.metrics import classification_report\n",
        "import pandas as pd\n",
        "# Reshape X_train to 2D array\n",
        "num_samples, sequence_length, num_features = X_train.shape\n",
        "X_train_2d = X_train.reshape(num_samples, -1)\n",
        "\n",
        "# Create a DataFrame\n",
        "columns = [f'feature_{i}_time_{j}' for i in range(num_features) for j in range(sequence_length)]\n",
        "df_X_train = pd.DataFrame(X_train_2d, columns=columns)\n",
        "\n",
        "# Display the DataFrame\n",
        "print(df_X_train)\n",
        "# Assuming rnn_predictions contains the output from the RNN model\n",
        "\n",
        "# Combine the RNN output with the original features\n",
        "#X_train_combined = pd.concat([X_train, pd.DataFrame(rnn_predictions, columns=['rnn_output'])], axis=1)\n",
        "#X_test_combined = pd.concat([X_test, pd.DataFrame(rnn_model.predict(X_test_rnn_output), columns=['rnn_output'])], axis=1)\n",
        "\n",
        "# Convert rnn_predictions to a DataFrame\n",
        "#rnn_predictions_df = pd.DataFrame(rnn_predictions, columns=['rnn_output'])\n",
        "\n",
        "# Convert X_train to a DataFrame if it's not already\n",
        "#if not isinstance(X_train, pd.DataFrame):\n",
        "    #X_train = pd.DataFrame(X_train, columns=['feature1', 'feature2', ...])  # Replace with your column names\n",
        "#X_test_rnn_output = rnn_model.predict(X_test)\n",
        "# Combine the RNN output with the original features\n",
        "X_train_combined = pd.concat([df_X_train, rnn_predictions_df], axis=1)\n",
        "#X_test_combined = pd.concat([X_test, pd.DataFrame(rnn_model.predict(rnn_predictions_df), columns=['rnn_output'])], axis=1)\n",
        "# Convert the predictions to a DataFrame\n",
        "rnn_test_predictions_df = pd.DataFrame(rnn_model.predict(rnn_predictions_df), columns=['rnn_output'])\n",
        "\n",
        "# Combine the RNN output with the original features in the test set\n",
        "#X_test_combined = pd.concat([X_test, rnn_test_predictions_df], axis=1)\n",
        "\n",
        "# Combine the RNN output with the original features in the test set\n",
        "X_test_combined = pd.concat([X_test, rnn_test_predictions_df], axis=1)\n",
        "\n",
        "# to train svm as the meta learner\n",
        "param_grid = {\n",
        "    'C': [0.001, 0.01, 0.1, 1, 10, 100],\n",
        "    'kernel': ['linear', 'rbf', 'poly', 'sigmoid']\n",
        "}\n",
        "svm = SVC(random_state=42)\n",
        "\n",
        "grid_search = GridSearchCV(estimator=svm, param_grid=param_grid, cv=5, scoring='accuracy')\n",
        "grid_search.fit(X_train_combined, y_train)\n",
        "\n",
        "\n",
        "best_params = grid_search.best_params_\n",
        "best_kernel = best_params['kernel']\n",
        "best_C = best_params['C']\n",
        "\n",
        "# Train the SVM classifier with the best hyperparameters\n",
        "best_svm = SVC(kernel=best_kernel, C=best_C, random_state=42)\n",
        "best_svm.fit(X_train_combined, y_train)\n",
        "\n",
        "y_pred_best_svm = best_svm.predict(X_test_combined)\n",
        "\n",
        "# Print classification report for the final combined model with the best SVM\n",
        "print(\"Best Kernel:\", best_kernel)\n",
        "print(\"Best C:\", best_C)\n",
        "print(classification_report(y_test, y_pred_best_svm))\n"
      ],
      "metadata": {
        "colab": {
          "base_uri": "https://localhost:8080/",
          "height": 894
        },
        "id": "Jram_ZPSxyQO",
        "outputId": "c2e7a2e2-0bb8-483f-c638-e309e7f1c991"
      },
      "execution_count": 36,
      "outputs": [
        {
          "output_type": "stream",
          "name": "stdout",
          "text": [
            "     feature_0_time_0  feature_0_time_1  feature_0_time_2  feature_0_time_3  \\\n",
            "0           -2.342354          4.000000          0.143536         -0.580802   \n",
            "1            1.342766          0.000000         -0.301054         -0.052159   \n",
            "2            0.421486          1.016949         -0.016517         -1.708574   \n",
            "3            1.342766          0.000000         -0.318837          0.758426   \n",
            "4            0.421486          0.000000         -0.407755          0.546969   \n",
            "..                ...               ...               ...               ...   \n",
            "315         -1.421074          1.000000          0.054618         -1.074202   \n",
            "316          0.421486          1.016949          0.552558         -2.413431   \n",
            "317          1.342766          0.000000         -0.336621          0.511726   \n",
            "318          0.421486          0.000000         -0.443322          0.265026   \n",
            "319         -1.421074          0.000000         -0.158785          0.370755   \n",
            "\n",
            "     feature_0_time_4  \n",
            "0           -0.885839  \n",
            "1           -0.275390  \n",
            "2           -1.862557  \n",
            "3            1.067597  \n",
            "4            0.579238  \n",
            "..                ...  \n",
            "315         -1.374198  \n",
            "316         -2.717185  \n",
            "317          0.212969  \n",
            "318          0.579238  \n",
            "319          1.555955  \n",
            "\n",
            "[320 rows x 5 columns]\n",
            "10/10 [==============================] - 0s 2ms/step\n"
          ]
        },
        {
          "output_type": "error",
          "ename": "TypeError",
          "evalue": "ignored",
          "traceback": [
            "\u001b[0;31m---------------------------------------------------------------------------\u001b[0m",
            "\u001b[0;31mTypeError\u001b[0m                                 Traceback (most recent call last)",
            "\u001b[0;32m<ipython-input-36-48c5e44c925c>\u001b[0m in \u001b[0;36m<cell line: 38>\u001b[0;34m()\u001b[0m\n\u001b[1;32m     36\u001b[0m \u001b[0;34m\u001b[0m\u001b[0m\n\u001b[1;32m     37\u001b[0m \u001b[0;31m# Combine the RNN output with the original features in the test set\u001b[0m\u001b[0;34m\u001b[0m\u001b[0;34m\u001b[0m\u001b[0m\n\u001b[0;32m---> 38\u001b[0;31m \u001b[0mX_test_combined\u001b[0m \u001b[0;34m=\u001b[0m \u001b[0mpd\u001b[0m\u001b[0;34m.\u001b[0m\u001b[0mconcat\u001b[0m\u001b[0;34m(\u001b[0m\u001b[0;34m[\u001b[0m\u001b[0mX_test\u001b[0m\u001b[0;34m,\u001b[0m \u001b[0mrnn_test_predictions_df\u001b[0m\u001b[0;34m]\u001b[0m\u001b[0;34m,\u001b[0m \u001b[0maxis\u001b[0m\u001b[0;34m=\u001b[0m\u001b[0;36m1\u001b[0m\u001b[0;34m)\u001b[0m\u001b[0;34m\u001b[0m\u001b[0;34m\u001b[0m\u001b[0m\n\u001b[0m\u001b[1;32m     39\u001b[0m \u001b[0;34m\u001b[0m\u001b[0m\n\u001b[1;32m     40\u001b[0m \u001b[0;31m# to train svm as the meta learner\u001b[0m\u001b[0;34m\u001b[0m\u001b[0;34m\u001b[0m\u001b[0m\n",
            "\u001b[0;32m/usr/local/lib/python3.10/dist-packages/pandas/util/_decorators.py\u001b[0m in \u001b[0;36mwrapper\u001b[0;34m(*args, **kwargs)\u001b[0m\n\u001b[1;32m    329\u001b[0m                     \u001b[0mstacklevel\u001b[0m\u001b[0;34m=\u001b[0m\u001b[0mfind_stack_level\u001b[0m\u001b[0;34m(\u001b[0m\u001b[0;34m)\u001b[0m\u001b[0;34m,\u001b[0m\u001b[0;34m\u001b[0m\u001b[0;34m\u001b[0m\u001b[0m\n\u001b[1;32m    330\u001b[0m                 )\n\u001b[0;32m--> 331\u001b[0;31m             \u001b[0;32mreturn\u001b[0m \u001b[0mfunc\u001b[0m\u001b[0;34m(\u001b[0m\u001b[0;34m*\u001b[0m\u001b[0margs\u001b[0m\u001b[0;34m,\u001b[0m \u001b[0;34m**\u001b[0m\u001b[0mkwargs\u001b[0m\u001b[0;34m)\u001b[0m\u001b[0;34m\u001b[0m\u001b[0;34m\u001b[0m\u001b[0m\n\u001b[0m\u001b[1;32m    332\u001b[0m \u001b[0;34m\u001b[0m\u001b[0m\n\u001b[1;32m    333\u001b[0m         \u001b[0;31m# error: \"Callable[[VarArg(Any), KwArg(Any)], Any]\" has no\u001b[0m\u001b[0;34m\u001b[0m\u001b[0;34m\u001b[0m\u001b[0m\n",
            "\u001b[0;32m/usr/local/lib/python3.10/dist-packages/pandas/core/reshape/concat.py\u001b[0m in \u001b[0;36mconcat\u001b[0;34m(objs, axis, join, ignore_index, keys, levels, names, verify_integrity, sort, copy)\u001b[0m\n\u001b[1;32m    366\u001b[0m     \u001b[0;36m1\u001b[0m   \u001b[0;36m3\u001b[0m   \u001b[0;36m4\u001b[0m\u001b[0;34m\u001b[0m\u001b[0;34m\u001b[0m\u001b[0m\n\u001b[1;32m    367\u001b[0m     \"\"\"\n\u001b[0;32m--> 368\u001b[0;31m     op = _Concatenator(\n\u001b[0m\u001b[1;32m    369\u001b[0m         \u001b[0mobjs\u001b[0m\u001b[0;34m,\u001b[0m\u001b[0;34m\u001b[0m\u001b[0;34m\u001b[0m\u001b[0m\n\u001b[1;32m    370\u001b[0m         \u001b[0maxis\u001b[0m\u001b[0;34m=\u001b[0m\u001b[0maxis\u001b[0m\u001b[0;34m,\u001b[0m\u001b[0;34m\u001b[0m\u001b[0;34m\u001b[0m\u001b[0m\n",
            "\u001b[0;32m/usr/local/lib/python3.10/dist-packages/pandas/core/reshape/concat.py\u001b[0m in \u001b[0;36m__init__\u001b[0;34m(self, objs, axis, join, keys, levels, names, ignore_index, verify_integrity, copy, sort)\u001b[0m\n\u001b[1;32m    456\u001b[0m                     \u001b[0;34m\"only Series and DataFrame objs are valid\"\u001b[0m\u001b[0;34m\u001b[0m\u001b[0;34m\u001b[0m\u001b[0m\n\u001b[1;32m    457\u001b[0m                 )\n\u001b[0;32m--> 458\u001b[0;31m                 \u001b[0;32mraise\u001b[0m \u001b[0mTypeError\u001b[0m\u001b[0;34m(\u001b[0m\u001b[0mmsg\u001b[0m\u001b[0;34m)\u001b[0m\u001b[0;34m\u001b[0m\u001b[0;34m\u001b[0m\u001b[0m\n\u001b[0m\u001b[1;32m    459\u001b[0m \u001b[0;34m\u001b[0m\u001b[0m\n\u001b[1;32m    460\u001b[0m             \u001b[0mndims\u001b[0m\u001b[0;34m.\u001b[0m\u001b[0madd\u001b[0m\u001b[0;34m(\u001b[0m\u001b[0mobj\u001b[0m\u001b[0;34m.\u001b[0m\u001b[0mndim\u001b[0m\u001b[0;34m)\u001b[0m\u001b[0;34m\u001b[0m\u001b[0;34m\u001b[0m\u001b[0m\n",
            "\u001b[0;31mTypeError\u001b[0m: cannot concatenate object of type '<class 'numpy.ndarray'>'; only Series and DataFrame objs are valid"
          ]
        }
      ]
    },
    {
      "cell_type": "code",
      "source": [
        "print(X_train)\n",
        "\n"
      ],
      "metadata": {
        "colab": {
          "base_uri": "https://localhost:8080/"
        },
        "id": "QSUMVSvk0LB9",
        "outputId": "dc14e530-29f5-4118-aeb7-22e08ff34323"
      },
      "execution_count": 35,
      "outputs": [
        {
          "output_type": "stream",
          "name": "stdout",
          "text": [
            "[[[ 3.00000000e+00]\n",
            "  [-2.34235440e+00]\n",
            "  [ 4.00000000e+00]\n",
            "  [ 1.43535723e-01]\n",
            "  [-8.85838942e-01]]\n",
            "\n",
            " [[ 1.80000000e+01]\n",
            "  [ 1.34276560e+00]\n",
            "  [ 0.00000000e+00]\n",
            "  [-3.01053786e-01]\n",
            "  [-2.75390345e-01]]\n",
            "\n",
            " [[ 2.02000000e+02]\n",
            "  [ 4.21485600e-01]\n",
            "  [ 1.01694915e+00]\n",
            "  [-1.65165002e-02]\n",
            "  [-1.86255670e+00]]\n",
            "\n",
            " ...\n",
            "\n",
            " [[ 2.70000000e+02]\n",
            "  [ 1.34276560e+00]\n",
            "  [ 0.00000000e+00]\n",
            "  [-3.36620946e-01]\n",
            "  [ 2.12968533e-01]]\n",
            "\n",
            " [[ 3.48000000e+02]\n",
            "  [ 4.21485600e-01]\n",
            "  [ 0.00000000e+00]\n",
            "  [-4.43322428e-01]\n",
            "  [ 5.79237692e-01]]\n",
            "\n",
            " [[ 1.02000000e+02]\n",
            "  [-1.42107440e+00]\n",
            "  [ 0.00000000e+00]\n",
            "  [-1.58785143e-01]\n",
            "  [ 1.55595545e+00]]]\n"
          ]
        }
      ]
    },
    {
      "cell_type": "code",
      "source": [
        "\"\"\"\n",
        "import pandas as pd\n",
        "\n",
        "# Reshape X_train to 2D array\n",
        "num_samples, sequence_length, num_features = X_train.shape\n",
        "X_train_2d = X_train.reshape(num_samples, -1)\n",
        "\n",
        "# Create a DataFrame\n",
        "columns = [f'feature_{i}_time_{j}' for i in range(num_features) for j in range(sequence_length)]\n",
        "df_X_train = pd.DataFrame(X_train_2d, columns=columns)\n",
        "\n",
        "# Display the DataFrame\n",
        "print(df_X_train)\n",
        "\"\"\""
      ],
      "metadata": {
        "colab": {
          "base_uri": "https://localhost:8080/"
        },
        "id": "y1yHMWOw1Jaq",
        "outputId": "e02d224a-574e-4138-ca46-38ba86573b6a"
      },
      "execution_count": 37,
      "outputs": [
        {
          "output_type": "stream",
          "name": "stdout",
          "text": [
            "     feature_0_time_0  feature_0_time_1  feature_0_time_2  feature_0_time_3  \\\n",
            "0                 3.0         -2.342354          4.000000          0.143536   \n",
            "1                18.0          1.342766          0.000000         -0.301054   \n",
            "2               202.0          0.421486          1.016949         -0.016517   \n",
            "3               250.0          1.342766          0.000000         -0.318837   \n",
            "4               274.0          0.421486          0.000000         -0.407755   \n",
            "..                ...               ...               ...               ...   \n",
            "315              71.0         -1.421074          1.000000          0.054618   \n",
            "316             106.0          0.421486          1.016949          0.552558   \n",
            "317             270.0          1.342766          0.000000         -0.336621   \n",
            "318             348.0          0.421486          0.000000         -0.443322   \n",
            "319             102.0         -1.421074          0.000000         -0.158785   \n",
            "\n",
            "     feature_0_time_4  \n",
            "0           -0.885839  \n",
            "1           -0.275390  \n",
            "2           -1.862557  \n",
            "3            1.067597  \n",
            "4            0.579238  \n",
            "..                ...  \n",
            "315         -1.374198  \n",
            "316         -2.717185  \n",
            "317          0.212969  \n",
            "318          0.579238  \n",
            "319          1.555955  \n",
            "\n",
            "[320 rows x 5 columns]\n"
          ]
        }
      ]
    },
    {
      "cell_type": "code",
      "source": [
        "print(X_test_rnn_output.shape)\n"
      ],
      "metadata": {
        "colab": {
          "base_uri": "https://localhost:8080/"
        },
        "id": "9zYXKUqj6EcL",
        "outputId": "8ef1cfc2-df9e-49c0-89b3-0b61927fa429"
      },
      "execution_count": 42,
      "outputs": [
        {
          "output_type": "stream",
          "name": "stdout",
          "text": [
            "(80, 1)\n"
          ]
        }
      ]
    }
  ]
}